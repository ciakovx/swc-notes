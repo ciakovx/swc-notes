{
 "cells": [
  {
   "cell_type": "code",
   "execution_count": null,
   "metadata": {},
   "outputs": [],
   "source": [
    "# Import lots of libraries to do fancy stuff\n",
    "import csv\n",
    "import sys\n",
    "import matplotlib.pyplot as plt; plt.rcdefaults()\n",
    "import numpy as np\n",
    "import matplotlib.pyplot as plt\n",
    "\n",
    "# Get data from the file\n",
    "# File import stuff\n",
    "results = []\n",
    "f = open('pawnee_county.csv', 'r')\n",
    "reader = csv.reader(f)\n",
    "for row in reader:\n",
    "    results.append(row)    \n",
    "f.close()\n",
    "\n",
    "'''\n",
    "At this point, the results are stored in \n",
    "a list of lists. Payne county looks like this:\n",
    "\n",
    "[['PAYNE', 'FOR THE PROPOSAL - YES', '10890'],\n",
    " ['PAYNE', 'AGAINST THE PROPOSAL - NO', '11608']]\n",
    " \n",
    "'''\n",
    "\n",
    "# Get the county name\n",
    "county = results[0][0]\n",
    "\n",
    "# Setup the x-axis\n",
    "for_against = ('For the proposal--Yes', 'Against the Proposal--No')\n",
    "x_pos = np.arange(len(for_against))\n",
    "\n",
    "# Get data and setup the y-axis\n",
    "votes = []\n",
    "for result in range(len(results)):\n",
    "    votes.append(results[result][2])\n",
    "# Convert list of strings to list of integers\n",
    "votes = list(map(int, votes))\n",
    " \n",
    "# Plot the graph (next week)\n",
    "plt.bar(x_pos, votes, align='center', alpha=0.5)\n",
    "plt.xticks(x_pos, for_against)\n",
    "plt.ylabel('Number of Votes')\n",
    "chart_title = 'State Question No. 793--' + county + ' County'\n",
    "plt.title(chart_title)\n",
    " \n",
    "plt.show()"
   ]
  }
 ],
 "metadata": {
  "kernelspec": {
   "display_name": "Python 3",
   "language": "python",
   "name": "python3"
  },
  "language_info": {
   "codemirror_mode": {
    "name": "ipython",
    "version": 3
   },
   "file_extension": ".py",
   "mimetype": "text/x-python",
   "name": "python",
   "nbconvert_exporter": "python",
   "pygments_lexer": "ipython3",
   "version": "3.7.0"
  }
 },
 "nbformat": 4,
 "nbformat_minor": 2
}
